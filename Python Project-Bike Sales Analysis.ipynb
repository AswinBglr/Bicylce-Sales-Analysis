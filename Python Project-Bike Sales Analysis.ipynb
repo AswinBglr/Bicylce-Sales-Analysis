{
 "cells": [
  {
   "cell_type": "code",
   "execution_count": 1,
   "id": "912cd00d-8a1c-4d66-8b13-dd3db3c183af",
   "metadata": {},
   "outputs": [],
   "source": [
    "import pandas as pd"
   ]
  },
  {
   "cell_type": "code",
   "execution_count": 37,
   "id": "e4fc668e-acbd-4850-8179-1d6434152448",
   "metadata": {},
   "outputs": [],
   "source": [
    "sales_record=pd.read_csv(r'C:\\Users\\aswin\\Downloads\\sales_data.csv')"
   ]
  },
  {
   "cell_type": "code",
   "execution_count": 38,
   "id": "283f381f-70c6-4719-a616-ea6c96fac54d",
   "metadata": {},
   "outputs": [
    {
     "data": {
      "text/html": [
       "<div>\n",
       "<style scoped>\n",
       "    .dataframe tbody tr th:only-of-type {\n",
       "        vertical-align: middle;\n",
       "    }\n",
       "\n",
       "    .dataframe tbody tr th {\n",
       "        vertical-align: top;\n",
       "    }\n",
       "\n",
       "    .dataframe thead th {\n",
       "        text-align: right;\n",
       "    }\n",
       "</style>\n",
       "<table border=\"1\" class=\"dataframe\">\n",
       "  <thead>\n",
       "    <tr style=\"text-align: right;\">\n",
       "      <th></th>\n",
       "      <th>id</th>\n",
       "      <th>Date</th>\n",
       "      <th>Day</th>\n",
       "      <th>Month</th>\n",
       "      <th>Year</th>\n",
       "      <th>Customer_Age</th>\n",
       "      <th>Age_Group</th>\n",
       "      <th>Customer_Gender</th>\n",
       "      <th>Country</th>\n",
       "      <th>State</th>\n",
       "      <th>Product_Category</th>\n",
       "      <th>Sub_Category</th>\n",
       "      <th>Product</th>\n",
       "      <th>Order_Quantity</th>\n",
       "      <th>Unit_Cost</th>\n",
       "      <th>Unit_Price</th>\n",
       "      <th>Profit</th>\n",
       "      <th>Cost</th>\n",
       "      <th>Revenue</th>\n",
       "    </tr>\n",
       "  </thead>\n",
       "  <tbody>\n",
       "    <tr>\n",
       "      <th>0</th>\n",
       "      <td>1</td>\n",
       "      <td>26-11-2013</td>\n",
       "      <td>26</td>\n",
       "      <td>November</td>\n",
       "      <td>2013</td>\n",
       "      <td>19</td>\n",
       "      <td>Youth (&lt;25)</td>\n",
       "      <td>M</td>\n",
       "      <td>Canada</td>\n",
       "      <td>British Columbia</td>\n",
       "      <td>Accessories</td>\n",
       "      <td>Bike Racks</td>\n",
       "      <td>Hitch Rack - 4-Bike</td>\n",
       "      <td>8</td>\n",
       "      <td>45</td>\n",
       "      <td>120</td>\n",
       "      <td>590</td>\n",
       "      <td>360</td>\n",
       "      <td>950</td>\n",
       "    </tr>\n",
       "    <tr>\n",
       "      <th>1</th>\n",
       "      <td>2</td>\n",
       "      <td>26-11-2015</td>\n",
       "      <td>26</td>\n",
       "      <td>November</td>\n",
       "      <td>2015</td>\n",
       "      <td>19</td>\n",
       "      <td>Youth (&lt;25)</td>\n",
       "      <td>M</td>\n",
       "      <td>Canada</td>\n",
       "      <td>British Columbia</td>\n",
       "      <td>Accessories</td>\n",
       "      <td>Bike Racks</td>\n",
       "      <td>Hitch Rack - 4-Bike</td>\n",
       "      <td>8</td>\n",
       "      <td>45</td>\n",
       "      <td>120</td>\n",
       "      <td>590</td>\n",
       "      <td>360</td>\n",
       "      <td>950</td>\n",
       "    </tr>\n",
       "    <tr>\n",
       "      <th>2</th>\n",
       "      <td>3</td>\n",
       "      <td>23-03-2014</td>\n",
       "      <td>23</td>\n",
       "      <td>March</td>\n",
       "      <td>2014</td>\n",
       "      <td>49</td>\n",
       "      <td>Adults (35-64)</td>\n",
       "      <td>M</td>\n",
       "      <td>Australia</td>\n",
       "      <td>New South Wales</td>\n",
       "      <td>Accessories</td>\n",
       "      <td>Bike Racks</td>\n",
       "      <td>Hitch Rack - 4-Bike</td>\n",
       "      <td>23</td>\n",
       "      <td>45</td>\n",
       "      <td>120</td>\n",
       "      <td>1366</td>\n",
       "      <td>1035</td>\n",
       "      <td>2401</td>\n",
       "    </tr>\n",
       "    <tr>\n",
       "      <th>3</th>\n",
       "      <td>4</td>\n",
       "      <td>23-03-2016</td>\n",
       "      <td>23</td>\n",
       "      <td>March</td>\n",
       "      <td>2016</td>\n",
       "      <td>49</td>\n",
       "      <td>Adults (35-64)</td>\n",
       "      <td>M</td>\n",
       "      <td>Australia</td>\n",
       "      <td>New South Wales</td>\n",
       "      <td>Accessories</td>\n",
       "      <td>Bike Racks</td>\n",
       "      <td>Hitch Rack - 4-Bike</td>\n",
       "      <td>20</td>\n",
       "      <td>45</td>\n",
       "      <td>120</td>\n",
       "      <td>1188</td>\n",
       "      <td>900</td>\n",
       "      <td>2088</td>\n",
       "    </tr>\n",
       "    <tr>\n",
       "      <th>4</th>\n",
       "      <td>5</td>\n",
       "      <td>15-05-2014</td>\n",
       "      <td>15</td>\n",
       "      <td>May</td>\n",
       "      <td>2014</td>\n",
       "      <td>47</td>\n",
       "      <td>Adults (35-64)</td>\n",
       "      <td>F</td>\n",
       "      <td>Australia</td>\n",
       "      <td>New South Wales</td>\n",
       "      <td>Accessories</td>\n",
       "      <td>Bike Racks</td>\n",
       "      <td>Hitch Rack - 4-Bike</td>\n",
       "      <td>4</td>\n",
       "      <td>45</td>\n",
       "      <td>120</td>\n",
       "      <td>238</td>\n",
       "      <td>180</td>\n",
       "      <td>418</td>\n",
       "    </tr>\n",
       "    <tr>\n",
       "      <th>...</th>\n",
       "      <td>...</td>\n",
       "      <td>...</td>\n",
       "      <td>...</td>\n",
       "      <td>...</td>\n",
       "      <td>...</td>\n",
       "      <td>...</td>\n",
       "      <td>...</td>\n",
       "      <td>...</td>\n",
       "      <td>...</td>\n",
       "      <td>...</td>\n",
       "      <td>...</td>\n",
       "      <td>...</td>\n",
       "      <td>...</td>\n",
       "      <td>...</td>\n",
       "      <td>...</td>\n",
       "      <td>...</td>\n",
       "      <td>...</td>\n",
       "      <td>...</td>\n",
       "      <td>...</td>\n",
       "    </tr>\n",
       "    <tr>\n",
       "      <th>113031</th>\n",
       "      <td>113032</td>\n",
       "      <td>12-04-2016</td>\n",
       "      <td>12</td>\n",
       "      <td>April</td>\n",
       "      <td>2016</td>\n",
       "      <td>41</td>\n",
       "      <td>Adults (35-64)</td>\n",
       "      <td>M</td>\n",
       "      <td>United Kingdom</td>\n",
       "      <td>England</td>\n",
       "      <td>Clothing</td>\n",
       "      <td>Vests</td>\n",
       "      <td>Classic Vest, S</td>\n",
       "      <td>3</td>\n",
       "      <td>24</td>\n",
       "      <td>64</td>\n",
       "      <td>112</td>\n",
       "      <td>72</td>\n",
       "      <td>184</td>\n",
       "    </tr>\n",
       "    <tr>\n",
       "      <th>113032</th>\n",
       "      <td>113033</td>\n",
       "      <td>02-04-2014</td>\n",
       "      <td>2</td>\n",
       "      <td>April</td>\n",
       "      <td>2014</td>\n",
       "      <td>18</td>\n",
       "      <td>Youth (&lt;25)</td>\n",
       "      <td>M</td>\n",
       "      <td>Australia</td>\n",
       "      <td>Queensland</td>\n",
       "      <td>Clothing</td>\n",
       "      <td>Vests</td>\n",
       "      <td>Classic Vest, M</td>\n",
       "      <td>22</td>\n",
       "      <td>24</td>\n",
       "      <td>64</td>\n",
       "      <td>655</td>\n",
       "      <td>528</td>\n",
       "      <td>1183</td>\n",
       "    </tr>\n",
       "    <tr>\n",
       "      <th>113033</th>\n",
       "      <td>113034</td>\n",
       "      <td>02-04-2016</td>\n",
       "      <td>2</td>\n",
       "      <td>April</td>\n",
       "      <td>2016</td>\n",
       "      <td>18</td>\n",
       "      <td>Youth (&lt;25)</td>\n",
       "      <td>M</td>\n",
       "      <td>Australia</td>\n",
       "      <td>Queensland</td>\n",
       "      <td>Clothing</td>\n",
       "      <td>Vests</td>\n",
       "      <td>Classic Vest, M</td>\n",
       "      <td>22</td>\n",
       "      <td>24</td>\n",
       "      <td>64</td>\n",
       "      <td>655</td>\n",
       "      <td>528</td>\n",
       "      <td>1183</td>\n",
       "    </tr>\n",
       "    <tr>\n",
       "      <th>113034</th>\n",
       "      <td>113035</td>\n",
       "      <td>04-03-2014</td>\n",
       "      <td>4</td>\n",
       "      <td>March</td>\n",
       "      <td>2014</td>\n",
       "      <td>37</td>\n",
       "      <td>Adults (35-64)</td>\n",
       "      <td>F</td>\n",
       "      <td>France</td>\n",
       "      <td>Seine (Paris)</td>\n",
       "      <td>Clothing</td>\n",
       "      <td>Vests</td>\n",
       "      <td>Classic Vest, L</td>\n",
       "      <td>24</td>\n",
       "      <td>24</td>\n",
       "      <td>64</td>\n",
       "      <td>684</td>\n",
       "      <td>576</td>\n",
       "      <td>1260</td>\n",
       "    </tr>\n",
       "    <tr>\n",
       "      <th>113035</th>\n",
       "      <td>113036</td>\n",
       "      <td>04-03-2016</td>\n",
       "      <td>4</td>\n",
       "      <td>March</td>\n",
       "      <td>2016</td>\n",
       "      <td>37</td>\n",
       "      <td>Adults (35-64)</td>\n",
       "      <td>F</td>\n",
       "      <td>France</td>\n",
       "      <td>Seine (Paris)</td>\n",
       "      <td>Clothing</td>\n",
       "      <td>Vests</td>\n",
       "      <td>Classic Vest, L</td>\n",
       "      <td>23</td>\n",
       "      <td>24</td>\n",
       "      <td>64</td>\n",
       "      <td>655</td>\n",
       "      <td>552</td>\n",
       "      <td>1207</td>\n",
       "    </tr>\n",
       "  </tbody>\n",
       "</table>\n",
       "<p>113036 rows × 19 columns</p>\n",
       "</div>"
      ],
      "text/plain": [
       "            id        Date  Day     Month  Year  Customer_Age       Age_Group  \\\n",
       "0            1  26-11-2013   26  November  2013            19     Youth (<25)   \n",
       "1            2  26-11-2015   26  November  2015            19     Youth (<25)   \n",
       "2            3  23-03-2014   23     March  2014            49  Adults (35-64)   \n",
       "3            4  23-03-2016   23     March  2016            49  Adults (35-64)   \n",
       "4            5  15-05-2014   15       May  2014            47  Adults (35-64)   \n",
       "...        ...         ...  ...       ...   ...           ...             ...   \n",
       "113031  113032  12-04-2016   12     April  2016            41  Adults (35-64)   \n",
       "113032  113033  02-04-2014    2     April  2014            18     Youth (<25)   \n",
       "113033  113034  02-04-2016    2     April  2016            18     Youth (<25)   \n",
       "113034  113035  04-03-2014    4     March  2014            37  Adults (35-64)   \n",
       "113035  113036  04-03-2016    4     March  2016            37  Adults (35-64)   \n",
       "\n",
       "       Customer_Gender         Country             State Product_Category  \\\n",
       "0                    M          Canada  British Columbia      Accessories   \n",
       "1                    M          Canada  British Columbia      Accessories   \n",
       "2                    M       Australia   New South Wales      Accessories   \n",
       "3                    M       Australia   New South Wales      Accessories   \n",
       "4                    F       Australia   New South Wales      Accessories   \n",
       "...                ...             ...               ...              ...   \n",
       "113031               M  United Kingdom           England         Clothing   \n",
       "113032               M       Australia        Queensland         Clothing   \n",
       "113033               M       Australia        Queensland         Clothing   \n",
       "113034               F          France     Seine (Paris)         Clothing   \n",
       "113035               F          France     Seine (Paris)         Clothing   \n",
       "\n",
       "       Sub_Category              Product  Order_Quantity  Unit_Cost  \\\n",
       "0        Bike Racks  Hitch Rack - 4-Bike               8         45   \n",
       "1        Bike Racks  Hitch Rack - 4-Bike               8         45   \n",
       "2        Bike Racks  Hitch Rack - 4-Bike              23         45   \n",
       "3        Bike Racks  Hitch Rack - 4-Bike              20         45   \n",
       "4        Bike Racks  Hitch Rack - 4-Bike               4         45   \n",
       "...             ...                  ...             ...        ...   \n",
       "113031        Vests      Classic Vest, S               3         24   \n",
       "113032        Vests      Classic Vest, M              22         24   \n",
       "113033        Vests      Classic Vest, M              22         24   \n",
       "113034        Vests      Classic Vest, L              24         24   \n",
       "113035        Vests      Classic Vest, L              23         24   \n",
       "\n",
       "        Unit_Price  Profit  Cost  Revenue  \n",
       "0              120     590   360      950  \n",
       "1              120     590   360      950  \n",
       "2              120    1366  1035     2401  \n",
       "3              120    1188   900     2088  \n",
       "4              120     238   180      418  \n",
       "...            ...     ...   ...      ...  \n",
       "113031          64     112    72      184  \n",
       "113032          64     655   528     1183  \n",
       "113033          64     655   528     1183  \n",
       "113034          64     684   576     1260  \n",
       "113035          64     655   552     1207  \n",
       "\n",
       "[113036 rows x 19 columns]"
      ]
     },
     "execution_count": 38,
     "metadata": {},
     "output_type": "execute_result"
    }
   ],
   "source": [
    "sales_record"
   ]
  },
  {
   "cell_type": "code",
   "execution_count": 5,
   "id": "bcf074a1-22fc-4ce9-8c93-05390b1888af",
   "metadata": {},
   "outputs": [
    {
     "name": "stdout",
     "output_type": "stream",
     "text": [
      "<class 'pandas.core.frame.DataFrame'>\n",
      "RangeIndex: 113036 entries, 0 to 113035\n",
      "Data columns (total 19 columns):\n",
      " #   Column            Non-Null Count   Dtype \n",
      "---  ------            --------------   ----- \n",
      " 0   id                113036 non-null  int64 \n",
      " 1   Date              113036 non-null  object\n",
      " 2   Day               113036 non-null  int64 \n",
      " 3   Month             113036 non-null  object\n",
      " 4   Year              113036 non-null  int64 \n",
      " 5   Customer_Age      113036 non-null  int64 \n",
      " 6   Age_Group         113036 non-null  object\n",
      " 7   Customer_Gender   113036 non-null  object\n",
      " 8   Country           113036 non-null  object\n",
      " 9   State             113036 non-null  object\n",
      " 10  Product_Category  113036 non-null  object\n",
      " 11  Sub_Category      113036 non-null  object\n",
      " 12  Product           113036 non-null  object\n",
      " 13  Order_Quantity    113036 non-null  int64 \n",
      " 14  Unit_Cost         113036 non-null  int64 \n",
      " 15  Unit_Price        113036 non-null  int64 \n",
      " 16  Profit            113036 non-null  int64 \n",
      " 17  Cost              113036 non-null  int64 \n",
      " 18  Revenue           113036 non-null  int64 \n",
      "dtypes: int64(10), object(9)\n",
      "memory usage: 16.4+ MB\n"
     ]
    }
   ],
   "source": [
    "sales_record.info()#There is no Nan values. Hence, no removing of data is required\n",
    "# However, Column \"Month\" has to be converted to date so as for easier analysis and sorting "
   ]
  },
  {
   "cell_type": "code",
   "execution_count": 6,
   "id": "6a86e301-34c1-4798-b2f5-ef9a60ec9b3a",
   "metadata": {},
   "outputs": [
    {
     "data": {
      "text/plain": [
       "(113036, 19)"
      ]
     },
     "execution_count": 6,
     "metadata": {},
     "output_type": "execute_result"
    }
   ],
   "source": [
    "sales_record.shape"
   ]
  },
  {
   "cell_type": "raw",
   "id": "805a72fa-9642-4403-9c96-cca2fdc786a7",
   "metadata": {},
   "source": [
    "It can be seen that month is in object type, not date time. Hence, this column will be removed and inserted with a correct one"
   ]
  },
  {
   "cell_type": "code",
   "execution_count": 7,
   "id": "5ddba89d-5110-494b-a88f-3fb3ca97e174",
   "metadata": {},
   "outputs": [],
   "source": [
    "#add in correct column\n",
    "sales_record['Month'] = pd.DatetimeIndex(sales_record.Date).month"
   ]
  },
  {
   "cell_type": "code",
   "execution_count": 8,
   "id": "70478fde-52d1-4a87-a36f-041417d0c018",
   "metadata": {},
   "outputs": [],
   "source": [
    "#export and save in jupyter\n",
    "sales_record.to_csv('sales_record.csv', index=True)"
   ]
  },
  {
   "cell_type": "code",
   "execution_count": 40,
   "id": "98e01e50-e18c-4734-ab2f-5ed645edcf03",
   "metadata": {},
   "outputs": [
    {
     "data": {
      "text/plain": [
       "Year  Month   \n",
       "2011  April        207\n",
       "      August       281\n",
       "      December     330\n",
       "      February     171\n",
       "      January      188\n",
       "                  ... \n",
       "2016  January     4210\n",
       "      July        2067\n",
       "      June        5082\n",
       "      March       4366\n",
       "      May         5015\n",
       "Name: id, Length: 62, dtype: int64"
      ]
     },
     "execution_count": 40,
     "metadata": {},
     "output_type": "execute_result"
    }
   ],
   "source": [
    "# Data for total number of customer each month annually\n",
    "\n",
    "Annual_month_sales=sales_record.sort_values(['Year'],ascending=True).groupby(['Year','Month']).id.count()\n",
    "sales_record.sort_values(['Month'],ascending=True)\n",
    "Annual_month_sales"
   ]
  },
  {
   "cell_type": "code",
   "execution_count": 50,
   "id": "8c7f5934-1550-4ce1-99d3-c56e05275270",
   "metadata": {},
   "outputs": [],
   "source": [
    "#export to seaborn manually\n",
    "\n",
    "Annual_month_sales.to_csv('Annual_month_sales.csv', index=True)"
   ]
  },
  {
   "cell_type": "code",
   "execution_count": 11,
   "id": "d19d6724-d9a0-45af-b761-fea337edb9f2",
   "metadata": {},
   "outputs": [
    {
     "data": {
      "text/plain": [
       "array([2013, 2015, 2014, 2016, 2012, 2011], dtype=int64)"
      ]
     },
     "execution_count": 11,
     "metadata": {},
     "output_type": "execute_result"
    }
   ],
   "source": [
    "pd.unique(sales_record.Year)"
   ]
  },
  {
   "cell_type": "code",
   "execution_count": 12,
   "id": "f9153ad5-bb64-47e1-9873-e22288e7d2d7",
   "metadata": {},
   "outputs": [
    {
     "data": {
      "text/plain": [
       "array(['Youth (<25)', 'Adults (35-64)', 'Young Adults (25-34)',\n",
       "       'Seniors (64+)'], dtype=object)"
      ]
     },
     "execution_count": 12,
     "metadata": {},
     "output_type": "execute_result"
    }
   ],
   "source": [
    "pd.unique(sales_record.Age_Group) #Just checking the age group available"
   ]
  },
  {
   "cell_type": "code",
   "execution_count": 13,
   "id": "aea44e19-6d80-47f1-a8e2-d157fdcec766",
   "metadata": {},
   "outputs": [
    {
     "data": {
      "text/plain": [
       "array(['Accessories', 'Clothing', 'Bikes'], dtype=object)"
      ]
     },
     "execution_count": 13,
     "metadata": {},
     "output_type": "execute_result"
    }
   ],
   "source": [
    "pd.unique(sales_record.Product_Category) #checking the product type available for sale"
   ]
  },
  {
   "cell_type": "code",
   "execution_count": 35,
   "id": "3bea7a11-9c6d-4862-83fc-9e1224aecd3f",
   "metadata": {},
   "outputs": [],
   "source": [
    "import seaborn as sns\n",
    "import pandas as pd\n",
    "import numpy as np\n",
    "import matplotlib\n",
    "import matplotlib.pyplot as plt\n",
    "%matplotlib inline\n",
    "\n",
    "sns.set_style('darkgrid')\n",
    "matplotlib.rcParams['font.size'] = 14\n",
    "matplotlib.rcParams['figure.figsize'] = (9, 5)\n",
    "matplotlib.rcParams['figure.facecolor'] = '#00000000'"
   ]
  },
  {
   "cell_type": "markdown",
   "id": "52302756-7d2e-4f30-b5e8-2abe8326bf45",
   "metadata": {},
   "source": [
    "##### Compute the total amount that the shop profited annually"
   ]
  },
  {
   "cell_type": "code",
   "execution_count": 15,
   "id": "d1406dd1-ec4d-4a58-be02-bf7bf40d1444",
   "metadata": {},
   "outputs": [
    {
     "data": {
      "text/html": [
       "<div>\n",
       "<style scoped>\n",
       "    .dataframe tbody tr th:only-of-type {\n",
       "        vertical-align: middle;\n",
       "    }\n",
       "\n",
       "    .dataframe tbody tr th {\n",
       "        vertical-align: top;\n",
       "    }\n",
       "\n",
       "    .dataframe thead th {\n",
       "        text-align: right;\n",
       "    }\n",
       "</style>\n",
       "<table border=\"1\" class=\"dataframe\">\n",
       "  <thead>\n",
       "    <tr style=\"text-align: right;\">\n",
       "      <th></th>\n",
       "      <th>Profit</th>\n",
       "    </tr>\n",
       "    <tr>\n",
       "      <th>Year</th>\n",
       "      <th></th>\n",
       "    </tr>\n",
       "  </thead>\n",
       "  <tbody>\n",
       "    <tr>\n",
       "      <th>2011</th>\n",
       "      <td>2881301</td>\n",
       "    </tr>\n",
       "    <tr>\n",
       "      <th>2012</th>\n",
       "      <td>2951993</td>\n",
       "    </tr>\n",
       "    <tr>\n",
       "      <th>2013</th>\n",
       "      <td>5959208</td>\n",
       "    </tr>\n",
       "    <tr>\n",
       "      <th>2014</th>\n",
       "      <td>5864087</td>\n",
       "    </tr>\n",
       "    <tr>\n",
       "      <th>2015</th>\n",
       "      <td>7528563</td>\n",
       "    </tr>\n",
       "    <tr>\n",
       "      <th>2016</th>\n",
       "      <td>7035948</td>\n",
       "    </tr>\n",
       "  </tbody>\n",
       "</table>\n",
       "</div>"
      ],
      "text/plain": [
       "       Profit\n",
       "Year         \n",
       "2011  2881301\n",
       "2012  2951993\n",
       "2013  5959208\n",
       "2014  5864087\n",
       "2015  7528563\n",
       "2016  7035948"
      ]
     },
     "execution_count": 15,
     "metadata": {},
     "output_type": "execute_result"
    }
   ],
   "source": [
    "Annual_profit=sales_record.groupby('Year')[['Profit']].sum()\n",
    "\n",
    "Annual_profit"
   ]
  },
  {
   "cell_type": "code",
   "execution_count": 16,
   "id": "a477009f-4f61-40db-abfd-569cc5cecc48",
   "metadata": {},
   "outputs": [
    {
     "data": {
      "image/png": "[encoded data removed]",
      "text/plain": [
       "<Figure size 900x500 with 1 Axes>"
      ]
     },
     "metadata": {
      "needs_background": "light"
     },
     "output_type": "display_data"
    }
   ],
   "source": [
    "#computes annual sum profit \n",
    "Years=range(2011,2017)\n",
    "Profit=Annual_profit.Profit\n",
    "plt.title('Annual Profit')\n",
    "plt.xlabel('Year')\n",
    "plt.ylabel('Mean Profit,$')\n",
    "plt.bar(Years,Profit);"
   ]
  },
  {
   "cell_type": "code",
   "execution_count": 17,
   "id": "f3a08716-162b-4500-84ad-1dec6521591b",
   "metadata": {},
   "outputs": [
    {
     "data": {
      "text/html": [
       "<div>\n",
       "<style scoped>\n",
       "    .dataframe tbody tr th:only-of-type {\n",
       "        vertical-align: middle;\n",
       "    }\n",
       "\n",
       "    .dataframe tbody tr th {\n",
       "        vertical-align: top;\n",
       "    }\n",
       "\n",
       "    .dataframe thead th {\n",
       "        text-align: right;\n",
       "    }\n",
       "</style>\n",
       "<table border=\"1\" class=\"dataframe\">\n",
       "  <thead>\n",
       "    <tr style=\"text-align: right;\">\n",
       "      <th></th>\n",
       "      <th>id</th>\n",
       "    </tr>\n",
       "    <tr>\n",
       "      <th>Year</th>\n",
       "      <th></th>\n",
       "    </tr>\n",
       "  </thead>\n",
       "  <tbody>\n",
       "    <tr>\n",
       "      <th>2011</th>\n",
       "      <td>2677</td>\n",
       "    </tr>\n",
       "    <tr>\n",
       "      <th>2012</th>\n",
       "      <td>2677</td>\n",
       "    </tr>\n",
       "    <tr>\n",
       "      <th>2013</th>\n",
       "      <td>24443</td>\n",
       "    </tr>\n",
       "    <tr>\n",
       "      <th>2014</th>\n",
       "      <td>29398</td>\n",
       "    </tr>\n",
       "    <tr>\n",
       "      <th>2015</th>\n",
       "      <td>24443</td>\n",
       "    </tr>\n",
       "    <tr>\n",
       "      <th>2016</th>\n",
       "      <td>29398</td>\n",
       "    </tr>\n",
       "  </tbody>\n",
       "</table>\n",
       "</div>"
      ],
      "text/plain": [
       "         id\n",
       "Year       \n",
       "2011   2677\n",
       "2012   2677\n",
       "2013  24443\n",
       "2014  29398\n",
       "2015  24443\n",
       "2016  29398"
      ]
     },
     "execution_count": 17,
     "metadata": {},
     "output_type": "execute_result"
    }
   ],
   "source": [
    "Annual_cusotmer=sales_record.groupby('Year')[['id']].count()\n",
    "Annual_cusotmer"
   ]
  },
  {
   "cell_type": "code",
   "execution_count": 18,
   "id": "e3e57480-9069-468a-b078-8c397b33197a",
   "metadata": {},
   "outputs": [
    {
     "data": {
      "text/html": [
       "<div>\n",
       "<style scoped>\n",
       "    .dataframe tbody tr th:only-of-type {\n",
       "        vertical-align: middle;\n",
       "    }\n",
       "\n",
       "    .dataframe tbody tr th {\n",
       "        vertical-align: top;\n",
       "    }\n",
       "\n",
       "    .dataframe thead th {\n",
       "        text-align: right;\n",
       "    }\n",
       "</style>\n",
       "<table border=\"1\" class=\"dataframe\">\n",
       "  <thead>\n",
       "    <tr style=\"text-align: right;\">\n",
       "      <th></th>\n",
       "      <th>Profit</th>\n",
       "      <th>id</th>\n",
       "    </tr>\n",
       "    <tr>\n",
       "      <th>Year</th>\n",
       "      <th></th>\n",
       "      <th></th>\n",
       "    </tr>\n",
       "  </thead>\n",
       "  <tbody>\n",
       "    <tr>\n",
       "      <th>2011</th>\n",
       "      <td>2881301</td>\n",
       "      <td>2677</td>\n",
       "    </tr>\n",
       "    <tr>\n",
       "      <th>2012</th>\n",
       "      <td>2951993</td>\n",
       "      <td>2677</td>\n",
       "    </tr>\n",
       "    <tr>\n",
       "      <th>2013</th>\n",
       "      <td>5959208</td>\n",
       "      <td>24443</td>\n",
       "    </tr>\n",
       "    <tr>\n",
       "      <th>2014</th>\n",
       "      <td>5864087</td>\n",
       "      <td>29398</td>\n",
       "    </tr>\n",
       "    <tr>\n",
       "      <th>2015</th>\n",
       "      <td>7528563</td>\n",
       "      <td>24443</td>\n",
       "    </tr>\n",
       "    <tr>\n",
       "      <th>2016</th>\n",
       "      <td>7035948</td>\n",
       "      <td>29398</td>\n",
       "    </tr>\n",
       "  </tbody>\n",
       "</table>\n",
       "</div>"
      ],
      "text/plain": [
       "       Profit     id\n",
       "Year                \n",
       "2011  2881301   2677\n",
       "2012  2951993   2677\n",
       "2013  5959208  24443\n",
       "2014  5864087  29398\n",
       "2015  7528563  24443\n",
       "2016  7035948  29398"
      ]
     },
     "execution_count": 18,
     "metadata": {},
     "output_type": "execute_result"
    }
   ],
   "source": [
    "merged_profit_df = Annual_profit.merge(Annual_cusotmer, on=\"Year\")\n",
    "merged_profit_df "
   ]
  },
  {
   "cell_type": "code",
   "execution_count": 60,
   "id": "9bf31119-5211-4bd9-a079-c6346d4c34b3",
   "metadata": {},
   "outputs": [
    {
     "data": {
      "text/html": [
       "<div>\n",
       "<style scoped>\n",
       "    .dataframe tbody tr th:only-of-type {\n",
       "        vertical-align: middle;\n",
       "    }\n",
       "\n",
       "    .dataframe tbody tr th {\n",
       "        vertical-align: top;\n",
       "    }\n",
       "\n",
       "    .dataframe thead th {\n",
       "        text-align: right;\n",
       "    }\n",
       "</style>\n",
       "<table border=\"1\" class=\"dataframe\">\n",
       "  <thead>\n",
       "    <tr style=\"text-align: right;\">\n",
       "      <th></th>\n",
       "      <th>Profit</th>\n",
       "      <th>id</th>\n",
       "      <th>Profit per 100 customer</th>\n",
       "    </tr>\n",
       "    <tr>\n",
       "      <th>Year</th>\n",
       "      <th></th>\n",
       "      <th></th>\n",
       "      <th></th>\n",
       "    </tr>\n",
       "  </thead>\n",
       "  <tbody>\n",
       "    <tr>\n",
       "      <th>2011</th>\n",
       "      <td>2881301</td>\n",
       "      <td>2677</td>\n",
       "      <td>107631.714606</td>\n",
       "    </tr>\n",
       "    <tr>\n",
       "      <th>2012</th>\n",
       "      <td>2951993</td>\n",
       "      <td>2677</td>\n",
       "      <td>110272.431827</td>\n",
       "    </tr>\n",
       "    <tr>\n",
       "      <th>2013</th>\n",
       "      <td>5959208</td>\n",
       "      <td>24443</td>\n",
       "      <td>24380.018819</td>\n",
       "    </tr>\n",
       "    <tr>\n",
       "      <th>2014</th>\n",
       "      <td>5864087</td>\n",
       "      <td>29398</td>\n",
       "      <td>19947.231104</td>\n",
       "    </tr>\n",
       "    <tr>\n",
       "      <th>2015</th>\n",
       "      <td>7528563</td>\n",
       "      <td>24443</td>\n",
       "      <td>30800.486847</td>\n",
       "    </tr>\n",
       "    <tr>\n",
       "      <th>2016</th>\n",
       "      <td>7035948</td>\n",
       "      <td>29398</td>\n",
       "      <td>23933.424042</td>\n",
       "    </tr>\n",
       "  </tbody>\n",
       "</table>\n",
       "</div>"
      ],
      "text/plain": [
       "       Profit     id  Profit per 100 customer\n",
       "Year                                         \n",
       "2011  2881301   2677            107631.714606\n",
       "2012  2951993   2677            110272.431827\n",
       "2013  5959208  24443             24380.018819\n",
       "2014  5864087  29398             19947.231104\n",
       "2015  7528563  24443             30800.486847\n",
       "2016  7035948  29398             23933.424042"
      ]
     },
     "execution_count": 60,
     "metadata": {},
     "output_type": "execute_result"
    }
   ],
   "source": [
    "merged_profit_df['Profit per 100 customer']=merged_profit_df.Profit*100/merged_profit_df.id\n",
    "\n",
    "merged_profit_df "
   ]
  },
  {
   "cell_type": "code",
   "execution_count": 61,
   "id": "c9a7fc1a-07cd-4616-9c5b-8ce4fcb06a02",
   "metadata": {},
   "outputs": [
    {
     "data": {
      "image/png": "[encoded data removed]",
      "text/plain": [
       "<Figure size 900x500 with 1 Axes>"
      ]
     },
     "metadata": {},
     "output_type": "display_data"
    }
   ],
   "source": [
    "import seaborn as sns\n",
    "sns.set_theme(style=\"darkgrid\")\n",
    "\n",
    "# Plot the responses for different events and regions\n",
    "sns.lineplot(x=\"Year\", y=\"Profit per 100 customer\",\n",
    "             data=merged_profit_df );"
   ]
  },
  {
   "cell_type": "markdown",
   "id": "c8f97278-9c57-406c-a0e9-a84e2990e044",
   "metadata": {},
   "source": [
    "##### Compute the total order quantity on annual basis"
   ]
  },
  {
   "cell_type": "code",
   "execution_count": 22,
   "id": "7a0b0509-8d9c-4c35-bc36-77cbdd283f62",
   "metadata": {},
   "outputs": [
    {
     "data": {
      "text/html": [
       "<div>\n",
       "<style scoped>\n",
       "    .dataframe tbody tr th:only-of-type {\n",
       "        vertical-align: middle;\n",
       "    }\n",
       "\n",
       "    .dataframe tbody tr th {\n",
       "        vertical-align: top;\n",
       "    }\n",
       "\n",
       "    .dataframe thead th {\n",
       "        text-align: right;\n",
       "    }\n",
       "</style>\n",
       "<table border=\"1\" class=\"dataframe\">\n",
       "  <thead>\n",
       "    <tr style=\"text-align: right;\">\n",
       "      <th></th>\n",
       "      <th>Order_Quantity</th>\n",
       "    </tr>\n",
       "    <tr>\n",
       "      <th>Year</th>\n",
       "      <th></th>\n",
       "    </tr>\n",
       "  </thead>\n",
       "  <tbody>\n",
       "    <tr>\n",
       "      <th>2011</th>\n",
       "      <td>5260</td>\n",
       "    </tr>\n",
       "    <tr>\n",
       "      <th>2012</th>\n",
       "      <td>5354</td>\n",
       "    </tr>\n",
       "    <tr>\n",
       "      <th>2013</th>\n",
       "      <td>294787</td>\n",
       "    </tr>\n",
       "    <tr>\n",
       "      <th>2014</th>\n",
       "      <td>379585</td>\n",
       "    </tr>\n",
       "    <tr>\n",
       "      <th>2015</th>\n",
       "      <td>289517</td>\n",
       "    </tr>\n",
       "    <tr>\n",
       "      <th>2016</th>\n",
       "      <td>370813</td>\n",
       "    </tr>\n",
       "  </tbody>\n",
       "</table>\n",
       "</div>"
      ],
      "text/plain": [
       "      Order_Quantity\n",
       "Year                \n",
       "2011            5260\n",
       "2012            5354\n",
       "2013          294787\n",
       "2014          379585\n",
       "2015          289517\n",
       "2016          370813"
      ]
     },
     "execution_count": 22,
     "metadata": {},
     "output_type": "execute_result"
    }
   ],
   "source": [
    "annual_quantity=sales_record.groupby('Year')[['Order_Quantity']].sum()\n",
    "annual_quantity"
   ]
  },
  {
   "cell_type": "code",
   "execution_count": 23,
   "id": "3f61ef32-bf0b-43ce-9610-47c4398301b0",
   "metadata": {
    "scrolled": true
   },
   "outputs": [
    {
     "data": {
      "image/png": "[encoded data removed]",
      "text/plain": [
       "<Figure size 900x500 with 1 Axes>"
      ]
     },
     "metadata": {},
     "output_type": "display_data"
    }
   ],
   "source": [
    "plt.plot(annual_quantity)\n",
    "plt.title('Annual quantity');"
   ]
  },
  {
   "cell_type": "markdown",
   "id": "03ae9f89-5295-4dfe-a33d-c3da7c8f5826",
   "metadata": {},
   "source": [
    "##### Show the relationship between order quantity and profit"
   ]
  },
  {
   "cell_type": "code",
   "execution_count": 24,
   "id": "62c3cc94-6afb-4075-880d-e0b383d939e7",
   "metadata": {
    "scrolled": true
   },
   "outputs": [
    {
     "data": {
      "text/html": [
       "<div>\n",
       "<style scoped>\n",
       "    .dataframe tbody tr th:only-of-type {\n",
       "        vertical-align: middle;\n",
       "    }\n",
       "\n",
       "    .dataframe tbody tr th {\n",
       "        vertical-align: top;\n",
       "    }\n",
       "\n",
       "    .dataframe thead th {\n",
       "        text-align: right;\n",
       "    }\n",
       "</style>\n",
       "<table border=\"1\" class=\"dataframe\">\n",
       "  <thead>\n",
       "    <tr style=\"text-align: right;\">\n",
       "      <th></th>\n",
       "      <th>Order_Quantity</th>\n",
       "      <th>Profit</th>\n",
       "    </tr>\n",
       "    <tr>\n",
       "      <th>Year</th>\n",
       "      <th></th>\n",
       "      <th></th>\n",
       "    </tr>\n",
       "  </thead>\n",
       "  <tbody>\n",
       "    <tr>\n",
       "      <th>2011</th>\n",
       "      <td>5260</td>\n",
       "      <td>2881301</td>\n",
       "    </tr>\n",
       "    <tr>\n",
       "      <th>2012</th>\n",
       "      <td>5354</td>\n",
       "      <td>2951993</td>\n",
       "    </tr>\n",
       "    <tr>\n",
       "      <th>2013</th>\n",
       "      <td>294787</td>\n",
       "      <td>5959208</td>\n",
       "    </tr>\n",
       "    <tr>\n",
       "      <th>2014</th>\n",
       "      <td>379585</td>\n",
       "      <td>5864087</td>\n",
       "    </tr>\n",
       "    <tr>\n",
       "      <th>2015</th>\n",
       "      <td>289517</td>\n",
       "      <td>7528563</td>\n",
       "    </tr>\n",
       "    <tr>\n",
       "      <th>2016</th>\n",
       "      <td>370813</td>\n",
       "      <td>7035948</td>\n",
       "    </tr>\n",
       "  </tbody>\n",
       "</table>\n",
       "</div>"
      ],
      "text/plain": [
       "      Order_Quantity   Profit\n",
       "Year                         \n",
       "2011            5260  2881301\n",
       "2012            5354  2951993\n",
       "2013          294787  5959208\n",
       "2014          379585  5864087\n",
       "2015          289517  7528563\n",
       "2016          370813  7035948"
      ]
     },
     "execution_count": 24,
     "metadata": {},
     "output_type": "execute_result"
    }
   ],
   "source": [
    "Quantity_profit=annual_quantity.merge(Annual_profit, on=\"Year\")\n",
    "Quantity_profit"
   ]
  },
  {
   "cell_type": "code",
   "execution_count": 25,
   "id": "372c11e5-7baf-45af-a691-2c754f1b2090",
   "metadata": {},
   "outputs": [
    {
     "data": {
      "image/png": "[encoded data removed]",
      "text/plain": [
       "<Figure size 900x500 with 1 Axes>"
      ]
     },
     "metadata": {},
     "output_type": "display_data"
    }
   ],
   "source": [
    "Quantity_profit.Order_Quantity.plot()\n",
    "Quantity_profit.Profit.plot();\n",
    "\n",
    "plt.xlabel(\"Year\")\n",
    "plt.ylabel(\"Quantity/Profit\");"
   ]
  },
  {
   "cell_type": "markdown",
   "id": "f8001a9a-bc11-4a98-b432-e92b63ba4ffc",
   "metadata": {},
   "source": [
    "##### Q1: What is the age group that contributes the highest profit to the shop?"
   ]
  },
  {
   "cell_type": "code",
   "execution_count": 26,
   "id": "76244075-d7e5-4320-a462-1013dcb78aa4",
   "metadata": {},
   "outputs": [
    {
     "data": {
      "image/png": "[encoded data removed]",
      "text/plain": [
       "<Figure size 900x500 with 1 Axes>"
      ]
     },
     "metadata": {},
     "output_type": "display_data"
    }
   ],
   "source": [
    "#computes annual mean profit by age group\n",
    "plt.title('Mean profit by age group')\n",
    "sns.barplot(x='Year', y='Profit', hue='Age_Group', data=sales_record);\n",
    "#Take x as year and y as profit, with respect to age group for analysis"
   ]
  },
  {
   "cell_type": "markdown",
   "id": "39146073-b14b-4084-86fc-089e2c5a5019",
   "metadata": {},
   "source": [
    "#### From the barchart, it can be seen that the age group that the shop will profit from is mainly Young Adults (25-34) and Adults (35-64). Due to the low population of seniors, the data for senior is not very consistent for 2011 and 2012, which is not placed in consideration for analysis. This phenomenon happens due to the fact that mnay youth does not have enough money to purchase the products they want,while many elderly are not physically fit enough for exercising. Hence, young adults who are mainly financially stable and physically fit will contribute more profit to the bike shop by buying more expensive products"
   ]
  },
  {
   "cell_type": "markdown",
   "id": "c8435293-3a3e-46ca-9ed5-4f7b482b21e5",
   "metadata": {},
   "source": [
    "##### Q2: Which product category is the best selling one?"
   ]
  },
  {
   "cell_type": "code",
   "execution_count": 44,
   "id": "85562fce-98c6-4ae7-aaf6-cc5b95b8a1df",
   "metadata": {},
   "outputs": [
    {
     "data": {
      "text/plain": [
       "array(['Accessories', 'Clothing', 'Bikes'], dtype=object)"
      ]
     },
     "execution_count": 44,
     "metadata": {},
     "output_type": "execute_result"
    }
   ],
   "source": [
    "pd.unique(sales_record.Product_Category)"
   ]
  },
  {
   "cell_type": "code",
   "execution_count": 45,
   "id": "d14a6c91-86d5-4eee-8591-3d94d3bfa227",
   "metadata": {
    "scrolled": true
   },
   "outputs": [
    {
     "data": {
      "text/html": [
       "<div>\n",
       "<style scoped>\n",
       "    .dataframe tbody tr th:only-of-type {\n",
       "        vertical-align: middle;\n",
       "    }\n",
       "\n",
       "    .dataframe tbody tr th {\n",
       "        vertical-align: top;\n",
       "    }\n",
       "\n",
       "    .dataframe thead th {\n",
       "        text-align: right;\n",
       "    }\n",
       "</style>\n",
       "<table border=\"1\" class=\"dataframe\">\n",
       "  <thead>\n",
       "    <tr style=\"text-align: right;\">\n",
       "      <th></th>\n",
       "      <th></th>\n",
       "      <th>id</th>\n",
       "      <th>Date</th>\n",
       "      <th>Day</th>\n",
       "      <th>Month</th>\n",
       "      <th>Customer_Age</th>\n",
       "      <th>Age_Group</th>\n",
       "      <th>Customer_Gender</th>\n",
       "      <th>Country</th>\n",
       "      <th>State</th>\n",
       "      <th>Sub_Category</th>\n",
       "      <th>Product</th>\n",
       "      <th>Order_Quantity</th>\n",
       "      <th>Unit_Cost</th>\n",
       "      <th>Unit_Price</th>\n",
       "      <th>Profit</th>\n",
       "      <th>Cost</th>\n",
       "      <th>Revenue</th>\n",
       "    </tr>\n",
       "    <tr>\n",
       "      <th>Year</th>\n",
       "      <th>Product_Category</th>\n",
       "      <th></th>\n",
       "      <th></th>\n",
       "      <th></th>\n",
       "      <th></th>\n",
       "      <th></th>\n",
       "      <th></th>\n",
       "      <th></th>\n",
       "      <th></th>\n",
       "      <th></th>\n",
       "      <th></th>\n",
       "      <th></th>\n",
       "      <th></th>\n",
       "      <th></th>\n",
       "      <th></th>\n",
       "      <th></th>\n",
       "      <th></th>\n",
       "      <th></th>\n",
       "    </tr>\n",
       "  </thead>\n",
       "  <tbody>\n",
       "    <tr>\n",
       "      <th>2011</th>\n",
       "      <th>Bikes</th>\n",
       "      <td>2677</td>\n",
       "      <td>2677</td>\n",
       "      <td>2677</td>\n",
       "      <td>2677</td>\n",
       "      <td>2677</td>\n",
       "      <td>2677</td>\n",
       "      <td>2677</td>\n",
       "      <td>2677</td>\n",
       "      <td>2677</td>\n",
       "      <td>2677</td>\n",
       "      <td>2677</td>\n",
       "      <td>2677</td>\n",
       "      <td>2677</td>\n",
       "      <td>2677</td>\n",
       "      <td>2677</td>\n",
       "      <td>2677</td>\n",
       "      <td>2677</td>\n",
       "    </tr>\n",
       "    <tr>\n",
       "      <th>2012</th>\n",
       "      <th>Bikes</th>\n",
       "      <td>2677</td>\n",
       "      <td>2677</td>\n",
       "      <td>2677</td>\n",
       "      <td>2677</td>\n",
       "      <td>2677</td>\n",
       "      <td>2677</td>\n",
       "      <td>2677</td>\n",
       "      <td>2677</td>\n",
       "      <td>2677</td>\n",
       "      <td>2677</td>\n",
       "      <td>2677</td>\n",
       "      <td>2677</td>\n",
       "      <td>2677</td>\n",
       "      <td>2677</td>\n",
       "      <td>2677</td>\n",
       "      <td>2677</td>\n",
       "      <td>2677</td>\n",
       "    </tr>\n",
       "    <tr>\n",
       "      <th rowspan=\"3\" valign=\"top\">2013</th>\n",
       "      <th>Accessories</th>\n",
       "      <td>15025</td>\n",
       "      <td>15025</td>\n",
       "      <td>15025</td>\n",
       "      <td>15025</td>\n",
       "      <td>15025</td>\n",
       "      <td>15025</td>\n",
       "      <td>15025</td>\n",
       "      <td>15025</td>\n",
       "      <td>15025</td>\n",
       "      <td>15025</td>\n",
       "      <td>15025</td>\n",
       "      <td>15025</td>\n",
       "      <td>15025</td>\n",
       "      <td>15025</td>\n",
       "      <td>15025</td>\n",
       "      <td>15025</td>\n",
       "      <td>15025</td>\n",
       "    </tr>\n",
       "    <tr>\n",
       "      <th>Bikes</th>\n",
       "      <td>5710</td>\n",
       "      <td>5710</td>\n",
       "      <td>5710</td>\n",
       "      <td>5710</td>\n",
       "      <td>5710</td>\n",
       "      <td>5710</td>\n",
       "      <td>5710</td>\n",
       "      <td>5710</td>\n",
       "      <td>5710</td>\n",
       "      <td>5710</td>\n",
       "      <td>5710</td>\n",
       "      <td>5710</td>\n",
       "      <td>5710</td>\n",
       "      <td>5710</td>\n",
       "      <td>5710</td>\n",
       "      <td>5710</td>\n",
       "      <td>5710</td>\n",
       "    </tr>\n",
       "    <tr>\n",
       "      <th>Clothing</th>\n",
       "      <td>3708</td>\n",
       "      <td>3708</td>\n",
       "      <td>3708</td>\n",
       "      <td>3708</td>\n",
       "      <td>3708</td>\n",
       "      <td>3708</td>\n",
       "      <td>3708</td>\n",
       "      <td>3708</td>\n",
       "      <td>3708</td>\n",
       "      <td>3708</td>\n",
       "      <td>3708</td>\n",
       "      <td>3708</td>\n",
       "      <td>3708</td>\n",
       "      <td>3708</td>\n",
       "      <td>3708</td>\n",
       "      <td>3708</td>\n",
       "      <td>3708</td>\n",
       "    </tr>\n",
       "    <tr>\n",
       "      <th rowspan=\"3\" valign=\"top\">2014</th>\n",
       "      <th>Accessories</th>\n",
       "      <td>20035</td>\n",
       "      <td>20035</td>\n",
       "      <td>20035</td>\n",
       "      <td>20035</td>\n",
       "      <td>20035</td>\n",
       "      <td>20035</td>\n",
       "      <td>20035</td>\n",
       "      <td>20035</td>\n",
       "      <td>20035</td>\n",
       "      <td>20035</td>\n",
       "      <td>20035</td>\n",
       "      <td>20035</td>\n",
       "      <td>20035</td>\n",
       "      <td>20035</td>\n",
       "      <td>20035</td>\n",
       "      <td>20035</td>\n",
       "      <td>20035</td>\n",
       "    </tr>\n",
       "    <tr>\n",
       "      <th>Bikes</th>\n",
       "      <td>4604</td>\n",
       "      <td>4604</td>\n",
       "      <td>4604</td>\n",
       "      <td>4604</td>\n",
       "      <td>4604</td>\n",
       "      <td>4604</td>\n",
       "      <td>4604</td>\n",
       "      <td>4604</td>\n",
       "      <td>4604</td>\n",
       "      <td>4604</td>\n",
       "      <td>4604</td>\n",
       "      <td>4604</td>\n",
       "      <td>4604</td>\n",
       "      <td>4604</td>\n",
       "      <td>4604</td>\n",
       "      <td>4604</td>\n",
       "      <td>4604</td>\n",
       "    </tr>\n",
       "    <tr>\n",
       "      <th>Clothing</th>\n",
       "      <td>4759</td>\n",
       "      <td>4759</td>\n",
       "      <td>4759</td>\n",
       "      <td>4759</td>\n",
       "      <td>4759</td>\n",
       "      <td>4759</td>\n",
       "      <td>4759</td>\n",
       "      <td>4759</td>\n",
       "      <td>4759</td>\n",
       "      <td>4759</td>\n",
       "      <td>4759</td>\n",
       "      <td>4759</td>\n",
       "      <td>4759</td>\n",
       "      <td>4759</td>\n",
       "      <td>4759</td>\n",
       "      <td>4759</td>\n",
       "      <td>4759</td>\n",
       "    </tr>\n",
       "    <tr>\n",
       "      <th rowspan=\"3\" valign=\"top\">2015</th>\n",
       "      <th>Accessories</th>\n",
       "      <td>15025</td>\n",
       "      <td>15025</td>\n",
       "      <td>15025</td>\n",
       "      <td>15025</td>\n",
       "      <td>15025</td>\n",
       "      <td>15025</td>\n",
       "      <td>15025</td>\n",
       "      <td>15025</td>\n",
       "      <td>15025</td>\n",
       "      <td>15025</td>\n",
       "      <td>15025</td>\n",
       "      <td>15025</td>\n",
       "      <td>15025</td>\n",
       "      <td>15025</td>\n",
       "      <td>15025</td>\n",
       "      <td>15025</td>\n",
       "      <td>15025</td>\n",
       "    </tr>\n",
       "    <tr>\n",
       "      <th>Bikes</th>\n",
       "      <td>5710</td>\n",
       "      <td>5710</td>\n",
       "      <td>5710</td>\n",
       "      <td>5710</td>\n",
       "      <td>5710</td>\n",
       "      <td>5710</td>\n",
       "      <td>5710</td>\n",
       "      <td>5710</td>\n",
       "      <td>5710</td>\n",
       "      <td>5710</td>\n",
       "      <td>5710</td>\n",
       "      <td>5710</td>\n",
       "      <td>5710</td>\n",
       "      <td>5710</td>\n",
       "      <td>5710</td>\n",
       "      <td>5710</td>\n",
       "      <td>5710</td>\n",
       "    </tr>\n",
       "    <tr>\n",
       "      <th>Clothing</th>\n",
       "      <td>3708</td>\n",
       "      <td>3708</td>\n",
       "      <td>3708</td>\n",
       "      <td>3708</td>\n",
       "      <td>3708</td>\n",
       "      <td>3708</td>\n",
       "      <td>3708</td>\n",
       "      <td>3708</td>\n",
       "      <td>3708</td>\n",
       "      <td>3708</td>\n",
       "      <td>3708</td>\n",
       "      <td>3708</td>\n",
       "      <td>3708</td>\n",
       "      <td>3708</td>\n",
       "      <td>3708</td>\n",
       "      <td>3708</td>\n",
       "      <td>3708</td>\n",
       "    </tr>\n",
       "    <tr>\n",
       "      <th rowspan=\"3\" valign=\"top\">2016</th>\n",
       "      <th>Accessories</th>\n",
       "      <td>20035</td>\n",
       "      <td>20035</td>\n",
       "      <td>20035</td>\n",
       "      <td>20035</td>\n",
       "      <td>20035</td>\n",
       "      <td>20035</td>\n",
       "      <td>20035</td>\n",
       "      <td>20035</td>\n",
       "      <td>20035</td>\n",
       "      <td>20035</td>\n",
       "      <td>20035</td>\n",
       "      <td>20035</td>\n",
       "      <td>20035</td>\n",
       "      <td>20035</td>\n",
       "      <td>20035</td>\n",
       "      <td>20035</td>\n",
       "      <td>20035</td>\n",
       "    </tr>\n",
       "    <tr>\n",
       "      <th>Bikes</th>\n",
       "      <td>4604</td>\n",
       "      <td>4604</td>\n",
       "      <td>4604</td>\n",
       "      <td>4604</td>\n",
       "      <td>4604</td>\n",
       "      <td>4604</td>\n",
       "      <td>4604</td>\n",
       "      <td>4604</td>\n",
       "      <td>4604</td>\n",
       "      <td>4604</td>\n",
       "      <td>4604</td>\n",
       "      <td>4604</td>\n",
       "      <td>4604</td>\n",
       "      <td>4604</td>\n",
       "      <td>4604</td>\n",
       "      <td>4604</td>\n",
       "      <td>4604</td>\n",
       "    </tr>\n",
       "    <tr>\n",
       "      <th>Clothing</th>\n",
       "      <td>4759</td>\n",
       "      <td>4759</td>\n",
       "      <td>4759</td>\n",
       "      <td>4759</td>\n",
       "      <td>4759</td>\n",
       "      <td>4759</td>\n",
       "      <td>4759</td>\n",
       "      <td>4759</td>\n",
       "      <td>4759</td>\n",
       "      <td>4759</td>\n",
       "      <td>4759</td>\n",
       "      <td>4759</td>\n",
       "      <td>4759</td>\n",
       "      <td>4759</td>\n",
       "      <td>4759</td>\n",
       "      <td>4759</td>\n",
       "      <td>4759</td>\n",
       "    </tr>\n",
       "  </tbody>\n",
       "</table>\n",
       "</div>"
      ],
      "text/plain": [
       "                          id   Date    Day  Month  Customer_Age  Age_Group  \\\n",
       "Year Product_Category                                                        \n",
       "2011 Bikes              2677   2677   2677   2677          2677       2677   \n",
       "2012 Bikes              2677   2677   2677   2677          2677       2677   \n",
       "2013 Accessories       15025  15025  15025  15025         15025      15025   \n",
       "     Bikes              5710   5710   5710   5710          5710       5710   \n",
       "     Clothing           3708   3708   3708   3708          3708       3708   \n",
       "2014 Accessories       20035  20035  20035  20035         20035      20035   \n",
       "     Bikes              4604   4604   4604   4604          4604       4604   \n",
       "     Clothing           4759   4759   4759   4759          4759       4759   \n",
       "2015 Accessories       15025  15025  15025  15025         15025      15025   \n",
       "     Bikes              5710   5710   5710   5710          5710       5710   \n",
       "     Clothing           3708   3708   3708   3708          3708       3708   \n",
       "2016 Accessories       20035  20035  20035  20035         20035      20035   \n",
       "     Bikes              4604   4604   4604   4604          4604       4604   \n",
       "     Clothing           4759   4759   4759   4759          4759       4759   \n",
       "\n",
       "                       Customer_Gender  Country  State  Sub_Category  Product  \\\n",
       "Year Product_Category                                                           \n",
       "2011 Bikes                        2677     2677   2677          2677     2677   \n",
       "2012 Bikes                        2677     2677   2677          2677     2677   \n",
       "2013 Accessories                 15025    15025  15025         15025    15025   \n",
       "     Bikes                        5710     5710   5710          5710     5710   \n",
       "     Clothing                     3708     3708   3708          3708     3708   \n",
       "2014 Accessories                 20035    20035  20035         20035    20035   \n",
       "     Bikes                        4604     4604   4604          4604     4604   \n",
       "     Clothing                     4759     4759   4759          4759     4759   \n",
       "2015 Accessories                 15025    15025  15025         15025    15025   \n",
       "     Bikes                        5710     5710   5710          5710     5710   \n",
       "     Clothing                     3708     3708   3708          3708     3708   \n",
       "2016 Accessories                 20035    20035  20035         20035    20035   \n",
       "     Bikes                        4604     4604   4604          4604     4604   \n",
       "     Clothing                     4759     4759   4759          4759     4759   \n",
       "\n",
       "                       Order_Quantity  Unit_Cost  Unit_Price  Profit   Cost  \\\n",
       "Year Product_Category                                                         \n",
       "2011 Bikes                       2677       2677        2677    2677   2677   \n",
       "2012 Bikes                       2677       2677        2677    2677   2677   \n",
       "2013 Accessories                15025      15025       15025   15025  15025   \n",
       "     Bikes                       5710       5710        5710    5710   5710   \n",
       "     Clothing                    3708       3708        3708    3708   3708   \n",
       "2014 Accessories                20035      20035       20035   20035  20035   \n",
       "     Bikes                       4604       4604        4604    4604   4604   \n",
       "     Clothing                    4759       4759        4759    4759   4759   \n",
       "2015 Accessories                15025      15025       15025   15025  15025   \n",
       "     Bikes                       5710       5710        5710    5710   5710   \n",
       "     Clothing                    3708       3708        3708    3708   3708   \n",
       "2016 Accessories                20035      20035       20035   20035  20035   \n",
       "     Bikes                       4604       4604        4604    4604   4604   \n",
       "     Clothing                    4759       4759        4759    4759   4759   \n",
       "\n",
       "                       Revenue  \n",
       "Year Product_Category           \n",
       "2011 Bikes                2677  \n",
       "2012 Bikes                2677  \n",
       "2013 Accessories         15025  \n",
       "     Bikes                5710  \n",
       "     Clothing             3708  \n",
       "2014 Accessories         20035  \n",
       "     Bikes                4604  \n",
       "     Clothing             4759  \n",
       "2015 Accessories         15025  \n",
       "     Bikes                5710  \n",
       "     Clothing             3708  \n",
       "2016 Accessories         20035  \n",
       "     Bikes                4604  \n",
       "     Clothing             4759  "
      ]
     },
     "execution_count": 45,
     "metadata": {},
     "output_type": "execute_result"
    }
   ],
   "source": [
    "best_selling_product=sales_record.groupby(['Year','Product_Category']).count()\n",
    "best_selling_product"
   ]
  },
  {
   "cell_type": "code",
   "execution_count": 62,
   "id": "98dbfad1-0454-42c4-8978-126e18561c35",
   "metadata": {
    "scrolled": true
   },
   "outputs": [
    {
     "name": "stderr",
     "output_type": "stream",
     "text": [
      "C:\\Users\\aswin\\AppData\\Local\\Temp\\ipykernel_27188\\2639794833.py:1: UserWarning: \n",
      "\n",
      "`shade_lowest` has been replaced by `thresh`; setting `thresh=0.05.\n",
      "This will become an error in seaborn v0.14.0; please update your code.\n",
      "\n",
      "  sns.kdeplot(x='Year', y='id', hue='Product_Category', data=best_selling_product,shade=True, shade_lowest=False)\n",
      "C:\\Users\\aswin\\AppData\\Local\\Temp\\ipykernel_27188\\2639794833.py:1: FutureWarning: \n",
      "\n",
      "`shade` is now deprecated in favor of `fill`; setting `fill=True`.\n",
      "This will become an error in seaborn v0.14.0; please update your code.\n",
      "\n",
      "  sns.kdeplot(x='Year', y='id', hue='Product_Category', data=best_selling_product,shade=True, shade_lowest=False)\n"
     ]
    },
    {
     "data": {
      "text/plain": [
       "<Axes: xlabel='Year', ylabel='id'>"
      ]
     },
     "execution_count": 62,
     "metadata": {},
     "output_type": "execute_result"
    },
    {
     "data": {
      "image/png": "[encoded data removed]",
      "text/plain": [
       "<Figure size 900x500 with 1 Axes>"
      ]
     },
     "metadata": {},
     "output_type": "display_data"
    }
   ],
   "source": [
    "sns.kdeplot(x='Year', y='id', hue='Product_Category', data=best_selling_product,shade=True, shade_lowest=False)"
   ]
  },
  {
   "cell_type": "markdown",
   "id": "1123a234-15a9-45a3-b37e-e19f4eb64e1e",
   "metadata": {},
   "source": [
    "#### From the KDE plot, it can be seen that bike acessories is the best selling product category. This could be because that bike accessories are generally more affordable as compared to bikes and clothing."
   ]
  },
  {
   "cell_type": "markdown",
   "id": "223378a8-cc92-4dd6-b4b6-8d2ca0482e19",
   "metadata": {},
   "source": [
    "##### Q3: Out of all the age group, which group does the customer mainly belongs to?"
   ]
  },
  {
   "cell_type": "code",
   "execution_count": 46,
   "id": "004d3ae8-cf02-43d2-9af2-504838a45510",
   "metadata": {},
   "outputs": [
    {
     "data": {
      "text/plain": [
       "Age_Group\n",
       "Adults (35-64)          55824\n",
       "Seniors (64+)             730\n",
       "Young Adults (25-34)    38654\n",
       "Youth (<25)             17828\n",
       "Name: id, dtype: int64"
      ]
     },
     "execution_count": 46,
     "metadata": {},
     "output_type": "execute_result"
    }
   ],
   "source": [
    "# Compute the people from different age groups from 2011 to 2016\n",
    "sales_record.groupby('Age_Group').id.count()"
   ]
  },
  {
   "cell_type": "code",
   "execution_count": 47,
   "id": "a02c0ef3-2a93-4214-9029-b983ce30b38c",
   "metadata": {},
   "outputs": [
    {
     "data": {
      "image/png": "[encoded data removed]",
      "text/plain": [
       "<Figure size 900x500 with 1 Axes>"
      ]
     },
     "metadata": {},
     "output_type": "display_data"
    }
   ],
   "source": [
    "# Pie chart, where the slices will be ordered and plotted counter-clockwise:\n",
    "labels = np.unique(sales_record.Age_Group)\n",
    "sizes = list(sales_record.groupby('Age_Group').id.count())\n",
    "explode = (0.05, 0, 0, 0)  # only \"explode\" the 1st slice (i.e. 'Adults')\n",
    "\n",
    "fig1, ax1 = plt.subplots()\n",
    "ax1.pie(sizes, explode=explode, labels=labels, autopct='%1.1f%%',\n",
    "        shadow=True, startangle=90)\n",
    "ax1.axis('equal')  # Equal aspect ratio ensures that pie is drawn as a circle.\n",
    "\n",
    "plt.title('Age Group of customers from 2011 to 2016')\n",
    "plt.show()"
   ]
  },
  {
   "cell_type": "markdown",
   "id": "069aa64a-5804-4766-acee-f2df3cac079f",
   "metadata": {},
   "source": [
    "#### From the piechart, it can be observed that the major age group of customer visiting the bike shop is Adults (35-64). Note that despite the young adults are bringing a generally higher profit, the main group of cusotmer are still adults. Furthermore, adults are also bringing quite a high amount of profit to the shop."
   ]
  },
  {
   "cell_type": "markdown",
   "id": "e56fee7b-22bb-4b27-b799-c9b83f63d193",
   "metadata": {},
   "source": [
    "##### Q4: Does the gender of customer affects the profit?"
   ]
  },
  {
   "cell_type": "code",
   "execution_count": 48,
   "id": "28d84f4a-6b8a-43a8-a71c-ee221f1d8add",
   "metadata": {},
   "outputs": [
    {
     "name": "stdout",
     "output_type": "stream",
     "text": [
      "Total Male customers: 58312\n",
      "Total Female customers: 54724\n"
     ]
    }
   ],
   "source": [
    "# A simple code for calculating the gender of customers  \n",
    "\n",
    "Male_customers=0\n",
    "Female_customers=0\n",
    "for Gender in list(sales_record.Customer_Gender):\n",
    "    if \"M\" in Gender:\n",
    "        Male_customers=Male_customers+1\n",
    "    if \"F\" in Gender:\n",
    "        Female_customers=Female_customers+1\n",
    "    \n",
    "    \n",
    "print('Total Male customers:', Male_customers)\n",
    "print('Total Female customers:', Female_customers)"
   ]
  },
  {
   "cell_type": "code",
   "execution_count": 49,
   "id": "929798b4-4113-4033-a782-2bfe1bf1056b",
   "metadata": {
    "scrolled": true
   },
   "outputs": [
    {
     "data": {
      "image/png": "[encoded data removed]",
      "text/plain": [
       "<Figure size 900x500 with 1 Axes>"
      ]
     },
     "metadata": {},
     "output_type": "display_data"
    }
   ],
   "source": [
    "sns.barplot(x='Year', y='Profit', hue='Customer_Gender', data=sales_record);"
   ]
  },
  {
   "cell_type": "markdown",
   "id": "01b82342-2004-42e9-a2b9-1314537c3984",
   "metadata": {},
   "source": [
    "#### From the barchart, it can be seen that both male and female contributes equally in profit. Hence, there is no significant difference in terms of cusotmer's gender for profit"
   ]
  }
 ],
 "metadata": {
  "kernelspec": {
   "display_name": "Python 3 (ipykernel)",
   "language": "python",
   "name": "python3"
  },
  "language_info": {
   "codemirror_mode": {
    "name": "ipython",
    "version": 3
   },
   "file_extension": ".py",
   "mimetype": "text/x-python",
   "name": "python",
   "nbconvert_exporter": "python",
   "pygments_lexer": "ipython3",
   "version": "3.12.0"
  }
 },
 "nbformat": 4,
 "nbformat_minor": 5
}
